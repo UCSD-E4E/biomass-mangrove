{
 "cells": [
  {
   "cell_type": "markdown",
   "metadata": {},
   "source": [
    "#### Make sure this is uploaded onto GitHub\n",
    "Put all needed libraries into a env.yml file\n",
    "Show them how to download conda and clone repo into their computer\n",
    "#### OR i can put this on an azure VM"
   ]
  },
  {
   "cell_type": "markdown",
   "metadata": {},
   "source": [
    "#### Prerequisities: DEM, mangrove/non-mangrove layers\n",
    "Python 3.6+, GIS, Anaconda, and following packages\n",
    "#### Output: biomass raster "
   ]
  },
  {
   "cell_type": "code",
   "execution_count": 10,
   "metadata": {},
   "outputs": [],
   "source": [
    "# packages needed\n",
    "import numpy as np\n",
    "import geopandas as gpd\n",
    "import rasterio\n",
    "from rasterio.mask import mask\n",
    "import json\n",
    "import os\n",
    "from os.path import dirname, abspath\n",
    "from pathlib import Path"
   ]
  },
  {
   "cell_type": "markdown",
   "metadata": {},
   "source": [
    "#### Step 1: Isolate mangrove classes from mangrove/nonmangrove layer"
   ]
  },
  {
   "cell_type": "code",
   "execution_count": 2,
   "metadata": {},
   "outputs": [],
   "source": [
    "# helper function to get mangrove polygons out of input shapefile\n",
    "def get_mangrove(label):\n",
    "    # read file in with gpd\n",
    "    polygons = gpd.read_file(label)\n",
    "    # subset mangrove polygons\n",
    "    mangrove = polygons[polygons['Class']=='mangrove']\n",
    "    # initialize crs- this can be reprojected later\n",
    "    mangrove.crs = {'init': 'epsg:4326'}\n",
    "    # return dataframe\n",
    "    return(mangrove)"
   ]
  },
  {
   "cell_type": "markdown",
   "metadata": {},
   "source": [
    "#### Step 2: Get mangrove extent from DEM and calculate biomass "
   ]
  },
  {
   "cell_type": "code",
   "execution_count": 3,
   "metadata": {},
   "outputs": [],
   "source": [
    "# clip dem from vector mangrove shapefile- geopandas/rasterio version\n",
    "def clip_dem2biomass(dest, dem, label):\n",
    "    # check if file already exists, delete it\n",
    "    if os.path.isfile(dest):\n",
    "        os.remove(dest)\n",
    "    # open files\n",
    "    dem_ = rasterio.open(dem)\n",
    "    # format for rasterio\n",
    "    label_ = [json.loads(label.to_json())['features'][0]['geometry']]\n",
    "    \n",
    "    # print progress of the clipping\n",
    "    print('Clipping...')\n",
    "    out_img, out_transform = mask(dataset=dem_, shapes=label_, crop=True)\n",
    "    print('Done!')\n",
    "    \n",
    "    # copy over metadata\n",
    "    out_meta = dem_.meta\n",
    "    out_meta.update({\"driver\": \"GTiff\",\n",
    "                     \"height\": out_img.shape[1],\n",
    "                     \"width\": out_img.shape[2],\n",
    "                     \"transform\": out_transform,\n",
    "                    })\n",
    "    \n",
    "    # calculate biomass\n",
    "    nodata = dem_.nodata\n",
    "    bio_img = 10.8*(out_img)+35\n",
    "    # replace nodata values back\n",
    "    bio_img[bio_img == np.min(bio_img)] = nodata\n",
    "    \n",
    "    # writes dem out to file\n",
    "    with rasterio.open(dest, \"w\", **out_meta) as dest:\n",
    "        dest.write(bio_img)\n",
    "    return"
   ]
  },
  {
   "cell_type": "code",
   "execution_count": 4,
   "metadata": {},
   "outputs": [],
   "source": [
    "# # example block\n",
    "# lap_1_2018_dem = \"/data/mangrove-data/master/2018.07-mexico-lapaz/lap-2018-07-site1/dem/lap_2018-07_site1_120m_DEM_tc.tif\"\n",
    "# lap1_2018_shp = \"/data/mangrove-data/Kathy/biomass_project/sites/lap_07-18_site1/lap_2018-07_site01_labels_m-nm/lap_2018-07_site01_labels_m-nm.shp\"\n",
    "# temp_dest = \"/data/mangrove-data/Kathy/biomass_project/downsampling/lap_07-18_site1/test_mask.tif\"\n",
    "\n",
    "# # get mangrove polygons only\n",
    "# m_poly = get_mangrove(lap1_2018_shp)\n",
    "# # clip dems\n",
    "# clip_dem2biomass(temp_dest, lap_1_2018_dem, m_poly)"
   ]
  },
  {
   "cell_type": "code",
   "execution_count": null,
   "metadata": {},
   "outputs": [],
   "source": [
    "## Some example files to run with\n",
    "# DEM: /data/mangrove-data/master/2018.07-mexico-lapaz/lap-2018-07-site1/dem/lap_2018-07_site1_120m_DEM_tc.tif\n",
    "# shp: /data/mangrove-data/Kathy/biomass_project/sites/lap_07-18_site1/lap_2018-07_site01_labels_m-nm/lap_2018-07_site01_labels_m-nm.shp\n",
    "# dest /data/mangrove-data/Kathy/biomass_project/downsampling/lap_07-18_site1/test_mask.tif"
   ]
  },
  {
   "cell_type": "code",
   "execution_count": 17,
   "metadata": {},
   "outputs": [
    {
     "name": "stdout",
     "output_type": "stream",
     "text": [
      "Please enter the full path to your DEM raster file: /data/mangrove-data/master/2018.07-mexico-lapaz/lap-2018-07-site1/dem/lap_2018-07_site1_120m_DEM_tc.tif\n",
      "Please enter the full path to your mangrove/nonmangrove shapefile: /data/mangrove-data/Kathy/biomass_project/sites/lap_07-18_site1/lap_2018-07_site01_labels_m-nm/lap_2018-07_site01_labels_m-nm.shp\n",
      "Please enter the full path for your output biomass raster file (destination): /data/mangrove-data/Kathy/biomass_project/downsampling/lap_07-18_site1/test_mask.tif\n"
     ]
    }
   ],
   "source": [
    "# Prompt user for manual or automated argument\n",
    "while (True):\n",
    "    # ask for dem file path\n",
    "    dem = str(input(\"Please enter the full path to your DEM raster file: \"))\n",
    "    if (os.path.isfile(dem) == False):\n",
    "        print('Invalid file path')\n",
    "        continue\n",
    "    # ask for label shpaefile path\n",
    "    shp = str(input(\"Please enter the full path to your mangrove/nonmangrove shapefile: \"))\n",
    "    if (os.path.isfile(shp) == False):\n",
    "        print('Invalid file path')\n",
    "        continue\n",
    "    # ask for destination path\n",
    "    dest = str(input(\"Please enter the full path for your output biomass raster file (destination): \"))\n",
    "    if (os.path.isdir(dirname(dest)) == False):\n",
    "        print('Invalid file path')\n",
    "        continue\n",
    "    break"
   ]
  },
  {
   "cell_type": "code",
   "execution_count": 18,
   "metadata": {},
   "outputs": [
    {
     "name": "stdout",
     "output_type": "stream",
     "text": [
      "Clipping...\n",
      "Done!\n"
     ]
    }
   ],
   "source": [
    "## run code\n",
    "# get mangrove polygons only\n",
    "m_poly = get_mangrove(shp)\n",
    "# clip dems\n",
    "clip_dem2biomass(dest, dem, m_poly)"
   ]
  }
 ],
 "metadata": {
  "kernelspec": {
   "display_name": "Python (gdal)",
   "language": "python",
   "name": "gdal"
  },
  "language_info": {
   "codemirror_mode": {
    "name": "ipython",
    "version": 3
   },
   "file_extension": ".py",
   "mimetype": "text/x-python",
   "name": "python",
   "nbconvert_exporter": "python",
   "pygments_lexer": "ipython3",
   "version": "3.7.3"
  }
 },
 "nbformat": 4,
 "nbformat_minor": 2
}
