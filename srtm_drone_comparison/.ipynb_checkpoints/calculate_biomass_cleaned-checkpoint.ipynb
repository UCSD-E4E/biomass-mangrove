{
 "cells": [
  {
   "cell_type": "markdown",
   "metadata": {},
   "source": [
    "#### Make sure this is uploaded onto GitHub\n",
    "Put all needed libraries into a env.yml file\n",
    "Show them how to download conda and clone repo into their computer\n",
    "#### OR i can put this on an azure VM"
   ]
  },
  {
   "cell_type": "code",
   "execution_count": 5,
   "metadata": {},
   "outputs": [],
   "source": [
    "# packages needed\n",
    "import geopandas as gpd\n",
    "import rasterio"
   ]
  },
  {
   "cell_type": "markdown",
   "metadata": {},
   "source": [
    "#### Step 1: Isolate mangrove classes from mangrove/nonmangrove layer"
   ]
  },
  {
   "cell_type": "code",
   "execution_count": 18,
   "metadata": {},
   "outputs": [],
   "source": [
    "# helper function to get mangrove polygons out of input shapefile\n",
    "def get_mangrove(label):\n",
    "    # read file in with gpd\n",
    "    polygons = gpd.read_file(label)\n",
    "    # subset mangrove polygons\n",
    "    mangrove = polygons[polygons['Class']=='mangrove']\n",
    "    # initialize crs\n",
    "    mangrove.crs = {'init': 'epsg:4326'}\n",
    "    # return dataframe\n",
    "    return(mangrove)\n",
    "    # save file\n",
    "    #mangrove.to_file(f'{basedir_down}/{site_name_down}/water-soil-mangrove/class_mangrove.gpkg', driver=\"GPKG\")"
   ]
  },
  {
   "cell_type": "markdown",
   "metadata": {},
   "source": [
    "#### Step 2: Get mangrove extent from DEM"
   ]
  },
  {
   "cell_type": "code",
   "execution_count": 1,
   "metadata": {},
   "outputs": [],
   "source": [
    "# clip dem from vector mangrove shapefile- GDAL version\n",
    "def clip_dem(dest, dem_name, label_name, site_name):\n",
    "    # set your destination\n",
    "    dest = '/data/mangrove-data/Kathy/biomass_project/downsampling/{}/clipped_DEM.tif'.format(site_name)\n",
    "    # call to clip DEM to mangrove label, no data value is set to -99999\n",
    "    call = \"gdalwarp -of GTiff -cutline \" + label_name + \" -crop_to_cutline -dstnodata -99999 \" + dem_name + \" \" + dest\n",
    "    clipped_name = dest\n",
    "    # checks if file exists, does not run if it does\n",
    "    if os.path.isfile(dest):\n",
    "        print(\"Clipped DEM exists.\")\n",
    "    # else run call\n",
    "    else:\n",
    "        print(call)\n",
    "        subprocess.run(call, shell=True)\n",
    "        print(\"Done\")\n",
    "    # return destination file path\n",
    "    return dest"
   ]
  },
  {
   "cell_type": "code",
   "execution_count": 22,
   "metadata": {},
   "outputs": [],
   "source": [
    "# clip dem from vector mangrove shapefile- geopandas/rasterio version\n",
    "def clip_dem(dem, label):\n",
    "    # open files\n",
    "    dem_ = rasterio.open(dem)\n",
    "    #label_ = gpd.read_file(label)\n",
    "    print(label)"
   ]
  },
  {
   "cell_type": "code",
   "execution_count": 23,
   "metadata": {},
   "outputs": [
    {
     "name": "stdout",
     "output_type": "stream",
     "text": [
      "      Class  Labels                                           geometry\n",
      "0  mangrove       1  MULTIPOLYGON (((-110.43249 24.17052, -110.4324...\n"
     ]
    }
   ],
   "source": [
    "lap_1_2018_dem = \"/data/mangrove-data/master/2018.07-mexico-lapaz/lap-2018-07-site1/dem/lap_2018-07_site1_120m_DEM_tc.tif\"\n",
    "lap1_2018_shp = \"/data/mangrove-data/Kathy/biomass_project/sites/lap_07-18_site1/lap_2018-07_site01_labels_m-nm/lap_2018-07_site01_labels_m-nm.shp\"\n",
    "\n",
    "m_poly = get_mangrove(lap1_2018_shp)\n",
    "clip_dem(lap_1_2018_dem, m_poly)"
   ]
  }
 ],
 "metadata": {
  "kernelspec": {
   "display_name": "Python (gdal)",
   "language": "python",
   "name": "gdal"
  },
  "language_info": {
   "codemirror_mode": {
    "name": "ipython",
    "version": 3
   },
   "file_extension": ".py",
   "mimetype": "text/x-python",
   "name": "python",
   "nbconvert_exporter": "python",
   "pygments_lexer": "ipython3",
   "version": "3.7.3"
  }
 },
 "nbformat": 4,
 "nbformat_minor": 2
}
