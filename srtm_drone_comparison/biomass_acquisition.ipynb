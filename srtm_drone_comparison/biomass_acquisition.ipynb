{
 "cells": [
  {
   "cell_type": "code",
   "execution_count": 1,
   "metadata": {},
   "outputs": [],
   "source": [
    "import numpy as np\n",
    "import pandas as pd\n",
    "import os\n",
    "import gdal\n",
    "import subprocess\n",
    "from statsmodels.graphics.gofplots import qqplot\n",
    "from matplotlib import pyplot as plt\n",
    "import scipy.stats as stats\n",
    "import statsmodels.api as sm\n",
    "from statsmodels.formula.api import ols\n",
    "from scipy import stats\n",
    "from osgeo import ogr\n",
    "import geopandas as gpd\n",
    "from shapely.geometry import Polygon\n",
    "import numpy as np\n",
    "import utm\n",
    "from rasterstats import zonal_stats\n",
    "import rasterio\n",
    "from rasterio.plot import show"
   ]
  },
  {
   "cell_type": "markdown",
   "metadata": {},
   "source": [
    "#### This following notebook is to run the comparisons between 30m SRTM/GLAS data against 0.03m drone data, calculating the biomass differences between each."
   ]
  },
  {
   "cell_type": "code",
   "execution_count": 2,
   "metadata": {},
   "outputs": [],
   "source": [
    "# helper file to make shape file\n",
    "def make_shp(site_name, dem_name):\n",
    "    dest = \"/data/mangrove-data/Kathy/biomass_project/downsampling/{}/srtm/srtm.shp\".format(site_name)\n",
    "    # check if file exists first\n",
    "    if os.path.isfile(dest):\n",
    "        return False\n",
    "    shp_call = (\"gdaltindex \" + dest + \" \" + dem_name)\n",
    "    \n",
    "    \n",
    "    return True"
   ]
  },
  {
   "cell_type": "code",
   "execution_count": 3,
   "metadata": {},
   "outputs": [],
   "source": [
    "# clip srtm from label shapefile\n",
    "def clip_srtm(label, srtm, site_name, flag):\n",
    "    # flag to run for biomass or CH srtm\n",
    "    if (flag == 0):\n",
    "        dest = '/data/mangrove-data/Kathy/biomass_project/downsampling/{}/clipped_CH_srtm.tif'.format(site_name)\n",
    "    else:\n",
    "        dest = '/data/mangrove-data/Kathy/biomass_project/downsampling/{}/clipped_srtm.tif'.format(site_name)\n",
    "    # convert dem to shape file or this will CRASH AND BURN\n",
    "    # dem_shp = \"/data/mangrove-data/Kathy/biomass_project/downsampling/{}/srtm/srtm.shp\".format(site_name)\n",
    "    # call = \"gdalwarp -of GTiff -cutline \" + dem_shp + \" -crop_to_cutline -dstnodata -99999 \" + srtm + \" \" + dest\n",
    "    call = \"gdalwarp -of GTiff -cutline \" + label + \" -crop_to_cutline -dstnodata -99999 \" + srtm + \" \" + dest\n",
    "    if os.path.isfile(dest):\n",
    "        print(\"Clipped srtm exists.\")\n",
    "    else:\n",
    "        print(subprocess.run(call, shell=True))\n",
    "        print(\"Done\")\n",
    "    return dest"
   ]
  },
  {
   "cell_type": "code",
   "execution_count": 4,
   "metadata": {},
   "outputs": [],
   "source": [
    "def calc_srtm_biomass(biomass, site_name):\n",
    "    biomass = gdal.Open(biomass)\n",
    "    # convert gdal datasets to np arrays- including nodata pixels\n",
    "    np_biomass = np.array(biomass.GetRasterBand(1).ReadAsArray())\n",
    "    # first get rid of no data pixels- very small number\n",
    "    total_biomass = np_biomass[np_biomass > np.amin(np_biomass)]\n",
    "    # then multiply array by area per pixel\n",
    "    pixel_area = (30**2)/10000\n",
    "    total_biomass = total_biomass * pixel_area\n",
    "    total_biomass = np.sum(total_biomass)\n",
    "    return(total_biomass)"
   ]
  },
  {
   "cell_type": "code",
   "execution_count": 5,
   "metadata": {},
   "outputs": [],
   "source": [
    "# clip dem from vector mangrove shapefile\n",
    "def clip_dem(dem_name, label_name, site_name):\n",
    "    dest = '/data/mangrove-data/Kathy/biomass_project/downsampling/{}/clipped_DEM.tif'.format(site_name)\n",
    "    call = \"gdalwarp -of GTiff -cutline \" + label_name + \" -crop_to_cutline -dstnodata -99999 \" + dem_name + \" \" + dest\n",
    "    clipped_name = dest\n",
    "    if os.path.isfile(dest):\n",
    "        print(\"Clipped DEM exists.\")\n",
    "    else:\n",
    "        print(call)\n",
    "        subprocess.run(call, shell=True)\n",
    "        print(\"Done\")\n",
    "    return dest"
   ]
  },
  {
   "cell_type": "code",
   "execution_count": 6,
   "metadata": {},
   "outputs": [],
   "source": [
    "def calc_dem_biomass(clipped_name, site_name):\n",
    "    # calculate biomass with gdal_calc\n",
    "    calc_mgha = \"((10.8 * sqrt(A*A)) + 35)\"\n",
    "    counter = 1\n",
    "    # call/destination paths\n",
    "    dest_mgha = '/data/mangrove-data/Kathy/biomass_project/downsampling/{}/biomass/scaled_down_0.tif'.format(site_name)\n",
    "    call_mgha = \"gdal_calc.py -A \" + clipped_name + \" \" + \"--outfile=\" + dest_mgha + \" \" + \"--calc='{}'\".format(calc_mgha)\n",
    "    # check if biomass (mg/ha) file exists\n",
    "    if os.path.isfile(dest_mgha):\n",
    "        print(\"Biomass (Mg/ha) {} exists\".format(0))\n",
    "    else:\n",
    "        # else run biomass calculation\n",
    "        print(subprocess.run(call_mgha, shell=True))\n",
    "    \n",
    "    # open biomass file\n",
    "    biomass = gdal.Open(dest_mgha)\n",
    "    # convert gdal datasets to np arrays- including nodata pixels\n",
    "    np_biomass = np.array(biomass.GetRasterBand(1).ReadAsArray())\n",
    "    # first get rid of no data pixels- very large number\n",
    "    total_biomass = np_biomass[np_biomass < np.amax(np_biomass)]\n",
    "    # then multiply array by area per pixel\n",
    "    pixel_area = (0.031250008**2)/10000\n",
    "    total_biomass = total_biomass * pixel_area\n",
    "    total_biomass = np.sum(total_biomass)\n",
    "    return total_biomass"
   ]
  },
  {
   "cell_type": "code",
   "execution_count": 7,
   "metadata": {},
   "outputs": [],
   "source": [
    "# take in srtm and dem biomass, then output their corresponding estimated mangrove extent\n",
    "def calc_area(drone_area, srtm_area):\n",
    "    # calculate drone clipped area\n",
    "    dem_area = gdal.Open(drone_area)\n",
    "    dem_area = np.array(dem_area.GetRasterBand(1).ReadAsArray())\n",
    "    dem_area = [dem_area > np.amin(dem_area)]\n",
    "    dem_area = (np.sum(dem_area) * (0.031250008**2)/10000)\n",
    "    print(\"Extent measured by drone (ha): \", dem_area)\n",
    "    \n",
    "    # calculate srtm clipped area\n",
    "    srtm_area = gdal.Open(srtm_area)\n",
    "    srtm_area = np.array(srtm_area.GetRasterBand(1).ReadAsArray())\n",
    "    srtm_area = [srtm_area > np.amin(srtm_area)]\n",
    "    srtm_area = (np.sum(srtm_area) * (30**2)/10000)\n",
    "    print(\"Extent measured by SRTM (ha): \", srtm_area)\n",
    "    \n",
    "    return dem_area, srtm_area"
   ]
  },
  {
   "cell_type": "code",
   "execution_count": 8,
   "metadata": {},
   "outputs": [],
   "source": [
    "def calc_hectare(biomass):\n",
    "    # make dataframe to store biomass information from each resolution\n",
    "    bio = gdal.Open(layer)\n",
    "    bio = np.array(bio.GetRasterBand(1).ReadAsArray())\n",
    "    excl = np.sum([bio < np.amax(bio)])\n",
    "    # calculate number pixels in a hectare (# pixels with data/# ha in site)\n",
    "    num_ha = int(round(excl/total))\n",
    "    # how many ha in site\n",
    "    total_ha = np.floor(total)\n",
    "    # how many ha in num_ha\n",
    "    actual_ha = (total/excl)*num_ha\n",
    "    # get total biomass from each hectare subsample\n",
    "    return final"
   ]
  },
  {
   "cell_type": "code",
   "execution_count": 2,
   "metadata": {},
   "outputs": [],
   "source": [
    "# automate with more sites later\n",
    "# srtm full path \n",
    "srtm = \"/data/mangrove-data/Kathy/biomass_project/sites/srtm/srtm_baja.tif\"\n",
    "CH_srtm = \"/data/mangrove-data/Kathy/biomass_project/sites/srtm/srtm_CH_baja.tif\"\n",
    "# DEM full path\n",
    "lap_6_2018_dem = \"/data/mangrove-data/master/2018.07-mexico-lapaz/lap-2018-07-site6/output/lap_2018-07_site06_120m_DEM_tc.tif\"\n",
    "lap_1_2018_dem = \"/data/mangrove-data/master/2018.07-mexico-lapaz/lap-2018-07-site1/dem/lap_2018-07_site1_120m_DEM_tc.tif\"\n",
    "ptsc_9_2018_dem = \"/data/mangrove-data/Kathy/biomass_project/sites/psc_05-18_site9/site-9-dem-tc.tif\"\n",
    "lap_4_2018_dem = \"/data/mangrove-data/master/2018.07-mexico-lapaz/lap-2018-07-site4/output/lap_2018-07_site04_120m_DEM_tc.tif\"\n",
    "ptsc_3_2018_dem = \"/data/mangrove-data/master/2018.05-mexico-ptosancarlos/psc-2018-05-site03/output/psc_2018-05_site03_120m_DEM_tc.tif\"\n",
    "ptsc_4_2018_dem = \"/data/mangrove-data/master/2018.05-mexico-ptosancarlos/psc-2018-05-site04/output/psc_2018-05_site04_120m_DEM_tc.tif\"\n",
    "ptsc_1_2018_dem = \"/data/mangrove-data/master/2018.05-mexico-ptosancarlos/psc-2018-05-site01/output/psc_2018-05_site01_120m_DEM_tc.tif\"\n",
    "ptsc_8_072018_dem = \"/data/mangrove-data/master/2018.07-mexico-ptosancarlos/psc_2018-07_site08/output/psc_2018-07_site08_120m_DEM-tc.tif\"\n",
    "ptsc_11_052018_dem = \"/data/mangrove-data/master/2018.05-mexico-ptosancarlos/psc-2018-05-site10-11/output/psc_2018-05_site11_120m_DEM_tc.tif\"\n",
    "ptsc_1314_2018_dem = \"/data/mangrove-data/master/2018.05-mexico-ptosancarlos/psc-2018-05-site13-14/output/psc_2018-05_site13-14_120m_DEM_tc.tif\"\n",
    "ptsc_12_2018_dem = \"/data/mangrove-data/master/2018.05-mexico-ptosancarlos/psc-2018-05-site12/output/psc_2018-05_site12_120m_DEM_tc.tif\"\n",
    "ptsc_11_072018_dem = \"/data/mangrove-data/master/2018.07-mexico-ptosancarlos/psc_2018-07_site11/output/psc_2018-07_site11_120m_DEM_tc.tif\"\n",
    "lap_5_2018_dem = \"/data/mangrove-data/master/2018.07-mexico-lapaz/lap-2018-07-site5/output/lap_2019-07_site05_120m_DEM_tc.tif\"\n",
    "\n",
    "# list of dems \n",
    "dem_names = [lap_6_2018_dem, lap_1_2018_dem, lap_4_2018_dem, ptsc_3_2018_dem, ptsc_4_2018_dem,\n",
    "            ptsc_8_072018_dem, ptsc_11_052018_dem, ptsc_1314_2018_dem, ptsc_12_2018_dem, \n",
    "            ptsc_11_072018_dem, lap_5_2018_dem]\n",
    "\n",
    "# Mangrove shapefile- manually made\n",
    "lap6_2018_label = \"/data/mangrove-data/Kathy/biomass_project/sites/lap_07-18_site6/label_1.gpkg\"\n",
    "lap1_2018_label = \"/data/mangrove-data/Kathy/biomass_project/sites/lap_07-18_site1/Labels_1.gpkg\"\n",
    "ptsc_9_2018_label = \"/data/mangrove-data/Kathy/biomass_project/sites/psc_05-18_site9/label_1.gpkg\"\n",
    "lap4_2018_label = \"/data/mangrove-data/Kathy/biomass_project/sites/lap_07-18_site4/label_1.gpkg\"\n",
    "ptsc3_2018_label = \"/data/mangrove-data/Kathy/biomass_project/sites/psc_05-18-site3-4/label_1.gpkg\"\n",
    "ptsc4_2018_label = ptsc3_2018_label\n",
    "ptsc1_2018_label = \"/data/mangrove-data/Kathy/biomass_project/sites/psc_05-18_site1/label_1.gpkg\"\n",
    "ptsc_8_072018_label = \"/data/mangrove-data/Kathy/biomass_project/sites/psc_07-18_site8/label_1.gpkg\"\n",
    "ptsc_11_052018_label = \"/data/mangrove-data/Kathy/biomass_project/sites/psc_05-18_site11/label_1.gpkg\"\n",
    "ptsc_1314_2018_label = \"/data/mangrove-data/Kathy/biomass_project/sites/psc_05-18_site1314/label_1_1.gpkg\"\n",
    "ptsc_12_2018_label = \"/data/mangrove-data/Kathy/biomass_project/sites/psc_05-18_site12/Label_1.gpkg\"\n",
    "ptsc_11_072018_label = \"/data/mangrove-data/Kathy/biomass_project/sites/psc_07-18_site11/label_1.gpkg\"\n",
    "lap_5_2018_label = \"/data/mangrove-data/Kathy/biomass_project/sites/lap_07-18_site5/label_1.gpkg\"\n",
    "\n",
    "# list of manual labels\n",
    "label_names = [lap6_2018_label, lap1_2018_label, lap4_2018_label, ptsc3_2018_label, \n",
    "               ptsc4_2018_label, ptsc_8_072018_label, ptsc_11_052018_label, \n",
    "               ptsc_1314_2018_label, ptsc_12_2018_label, ptsc_11_072018_label, \n",
    "               lap_5_2018_label]\n",
    "\n",
    "# Mangrove-Nonmangrove shapefile- manually made\n",
    "lap6_2018_shp = \"/data/mangrove-data/master/2018.07-mexico-lapaz/lap-2018-07-site6/labels/lap_2018-07_site06_120m_RGB_m-nm.shp\"\n",
    "lap1_2018_shp = \"/data/mangrove-data/Kathy/biomass_project/sites/lap_07-18_site1/lap_2018-07_site01_labels_m-nm/lap_2018-07_site01_labels_m-nm.shp\"\n",
    "ptsc_9_2018_shp = \"/data/mangrove-data/Kathy/biomass_project/sites/psc_05-18_site9/psc_2018-05_site_09_labels_m-nm_final/psc_2018-05_site_09_labels_m-nm_final.shp\"\n",
    "lap4_2018_shp = \"/data/mangrove-data/Kathy/biomass_project/sites/lap_07-18_site4/lap_2018-07_site04_labels_m-nm/lap_2018-07_site04_labels_m-nm.shp\"\n",
    "ptsc3_2018_shp = \"/data/mangrove-data/Kathy/biomass_project/sites/psc_05-18-site3-4/2018-05_psc_site03-04_120m_labels_m-nm/2018-05_psc_site03-04_120m_labels_m-nm.shp\"\n",
    "ptsc4_2018_shp = ptsc3_2018_shp\n",
    "ptsc1_2018_shp = \"/data/mangrove-data/Kathy/biomass_project/sites/psc_05-18_site1/psc_2018-05_site01_fixed_labels_m-nm.gpkg\"\n",
    "ptsc_8_072018_shp = \"/data/mangrove-data/Kathy/biomass_project/sites/psc_07-18_site8/psc_2018-07_site08_120m_RGB_labels_m-nm/psc_2018-07_site08_120m_RGB_labels_m-nm.shp\"\n",
    "ptsc_11_052018_shp = \"/data/mangrove-data/Kathy/biomass_project/sites/psc_05-18_site11/drive-download-20200511T062534Z-001/psc_2018-05_site11_120m_RGB_dissolved.shp\"\n",
    "ptsc_1314_2018_shp = \"/data/mangrove-data/Kathy/biomass_project/sites/psc_05-18_site1314/psc_2018_05_site1314_fixed_mnm.gpkg\"\n",
    "ptsc_12_2018_shp = \"/data/mangrove-data/Kathy/biomass_project/sites/psc_05-18_site12/psc_2018-05_site12_labels_m-nm/psc_2018-05_site12_labels_m-nm.shp\"\n",
    "ptsc_11_072018_shp = \"/data/mangrove-data/Kathy/biomass_project/sites/psc_07-18_site11/psc_2018-07_site11_120m_RGB_m-nm/psc_2018-07_site11_120m_RGB_m-nm.shp\"\n",
    "lap_5_2018_shp = \"/data/mangrove-data/Kathy/biomass_project/sits/lap_07-18_site5/psc_2018-07_site05_fixed_mnm.gpkg\"\n",
    "\n",
    "\n",
    "# list of manual shps\n",
    "shp_names = [lap6_2018_shp, lap1_2018_shp, lap4_2018_shp, ptsc3_2018_shp, ptsc4_2018_shp,\n",
    "            ptsc_8_072018_shp, ptsc_11_052018_shp, ptsc_1314_2018_shp, ptsc_12_2018_shp, \n",
    "            ptsc_11_072018_shp, lap_5_2018_shp]\n",
    "\n",
    "# list of site names\n",
    "site_names = [\"lap-2018-07-site6\", \"lap_07-18_site1\", \"lap_07-18_site4\", \"psc_05-18_site3\", \n",
    "              \"psc_05-18_site4\", \"psc_07-18_site8\", \"psc_05-18_site11\", \"psc_05-18_site1314\", \n",
    "             \"psc_05-18_site12\", \"psc_07-18_site11\", \"lap_07-18_site5\"]"
   ]
  },
  {
   "cell_type": "code",
   "execution_count": 4,
   "metadata": {},
   "outputs": [
    {
     "ename": "NameError",
     "evalue": "name 'clip_srtm' is not defined",
     "output_type": "error",
     "traceback": [
      "\u001b[0;31m---------------------------------------------------------------------------\u001b[0m",
      "\u001b[0;31mNameError\u001b[0m                                 Traceback (most recent call last)",
      "\u001b[0;32m<ipython-input-4-56019ab37294>\u001b[0m in \u001b[0;36m<module>\u001b[0;34m\u001b[0m\n\u001b[1;32m      8\u001b[0m \u001b[0;32mfor\u001b[0m \u001b[0mdem\u001b[0m \u001b[0;32min\u001b[0m \u001b[0mdem_names\u001b[0m\u001b[0;34m:\u001b[0m\u001b[0;34m\u001b[0m\u001b[0;34m\u001b[0m\u001b[0m\n\u001b[1;32m      9\u001b[0m     \u001b[0;31m# clip srtm canopy height from each label\u001b[0m\u001b[0;34m\u001b[0m\u001b[0;34m\u001b[0m\u001b[0;34m\u001b[0m\u001b[0m\n\u001b[0;32m---> 10\u001b[0;31m     \u001b[0mCH_clipped_srtm\u001b[0m \u001b[0;34m=\u001b[0m \u001b[0mclip_srtm\u001b[0m\u001b[0;34m(\u001b[0m\u001b[0mshp_names\u001b[0m\u001b[0;34m[\u001b[0m\u001b[0mcount\u001b[0m\u001b[0;34m]\u001b[0m\u001b[0;34m,\u001b[0m \u001b[0mCH_srtm\u001b[0m\u001b[0;34m,\u001b[0m \u001b[0msite_names\u001b[0m\u001b[0;34m[\u001b[0m\u001b[0mcount\u001b[0m\u001b[0;34m]\u001b[0m\u001b[0;34m,\u001b[0m \u001b[0;36m0\u001b[0m\u001b[0;34m)\u001b[0m\u001b[0;34m\u001b[0m\u001b[0;34m\u001b[0m\u001b[0m\n\u001b[0m\u001b[1;32m     11\u001b[0m     \u001b[0;31m# get srtm biomass from each dem first\u001b[0m\u001b[0;34m\u001b[0m\u001b[0;34m\u001b[0m\u001b[0;34m\u001b[0m\u001b[0m\n\u001b[1;32m     12\u001b[0m     \u001b[0mclipped_srtm\u001b[0m \u001b[0;34m=\u001b[0m \u001b[0mclip_srtm\u001b[0m\u001b[0;34m(\u001b[0m\u001b[0mshp_names\u001b[0m\u001b[0;34m[\u001b[0m\u001b[0mcount\u001b[0m\u001b[0;34m]\u001b[0m\u001b[0;34m,\u001b[0m \u001b[0msrtm\u001b[0m\u001b[0;34m,\u001b[0m \u001b[0msite_names\u001b[0m\u001b[0;34m[\u001b[0m\u001b[0mcount\u001b[0m\u001b[0;34m]\u001b[0m\u001b[0;34m,\u001b[0m \u001b[0;36m1\u001b[0m\u001b[0;34m)\u001b[0m\u001b[0;34m\u001b[0m\u001b[0;34m\u001b[0m\u001b[0m\n",
      "\u001b[0;31mNameError\u001b[0m: name 'clip_srtm' is not defined"
     ]
    }
   ],
   "source": [
    "# run script to generate biomass models\n",
    "count = 0\n",
    "all_srtm = []\n",
    "all_drone = []\n",
    "drone_ext = []\n",
    "srtm_ext = []\n",
    "# loop through dems/labels\n",
    "for dem in dem_names:\n",
    "    # clip srtm canopy height from each label\n",
    "    CH_clipped_srtm = clip_srtm(shp_names[count], CH_srtm, site_names[count], 0)\n",
    "    # get srtm biomass from each dem first\n",
    "    clipped_srtm = clip_srtm(shp_names[count], srtm, site_names[count], 1)\n",
    "    srtm_biomass = calc_srtm_biomass(clipped_srtm, site_names[count])\n",
    "    all_srtm.append(srtm_biomass)\n",
    "    # next get drone biomass, first clip dem from label\n",
    "    clipped_dest = clip_dem(dem, label_names[count], site_names[count])\n",
    "    drone_biomass = calc_dem_biomass(clipped_dest, site_names[count])\n",
    "    all_drone.append(drone_biomass)\n",
    "    # calculate area from each layer\n",
    "    drone_area, srtm_area = calc_area(clipped_dest, clipped_srtm)\n",
    "    drone_ext.append(drone_area)\n",
    "    srtm_ext.append(srtm_area)\n",
    "    # calculate total biomass\n",
    "    # print(\"Sum of total biomass in Mg: \", np.round(np.sum(total_biomass), 3))\n",
    "    count += 1"
   ]
  },
  {
   "cell_type": "code",
   "execution_count": 5,
   "metadata": {},
   "outputs": [],
   "source": [
    "def make_grid(label, site_name):\n",
    "    # check if grid already exists\n",
    "    dest = f\"/data/mangrove-data/Kathy/biomass_project/downsampling/{site_name}/grid.shp\"\n",
    "    if os.path.isfile(dest):\n",
    "        print(f\"Grid for {site_name} exists\")\n",
    "        # continue\n",
    "    # convert m-nm label to GeoDataFrame\n",
    "    #label = f'/data/mangrove-data/Kathy/biomass_project/downsampling/{site_name}/'\n",
    "    points = gpd.read_file(label)\n",
    "    # get boundaries\n",
    "    xmin,ymin,xmax,ymax = points.total_bounds\n",
    "    # make 30x30 sample sizes\n",
    "    length = 30\n",
    "    wide = 30\n",
    "    # La Paz- UTM Zone 12R (convert to UTM)\n",
    "    utm_min = utm.from_latlon(ymin, xmin)\n",
    "    utm_max = utm.from_latlon(ymax, xmax)\n",
    "    cols = list(range(int(np.floor(utm_min[0])), int(np.ceil(utm_max[0])), wide))\n",
    "    rows = list(range(int(np.floor(utm_min[1])), int(np.ceil(utm_max[1])), length))\n",
    "    rows.reverse()\n",
    "    polygons = []\n",
    "    \n",
    "    # make polygons\n",
    "    for x in cols:\n",
    "        for y in rows:\n",
    "            polygons.append( Polygon([utm.to_latlon(x,y, utm_min[2], utm_min[3])[::-1], \n",
    "                                      utm.to_latlon(x+wide, y, utm_min[2], utm_min[3])[::-1], \n",
    "                                      utm.to_latlon(x+wide, y-length, utm_min[2], utm_min[3])[::-1], \n",
    "                                      utm.to_latlon(x, y-length, utm_min[2], utm_min[3])[::-1]]) )\n",
    "    # save output \n",
    "    grid = gpd.GeoDataFrame({'geometry':polygons})\n",
    "    grid.crs = {'init': 'epsg:4326'}\n",
    "    grid.to_file(dest)"
   ]
  },
  {
   "cell_type": "code",
   "execution_count": 6,
   "metadata": {},
   "outputs": [],
   "source": [
    "def get_stats(site_name, dem):\n",
    "    grid_file = f\"/data/mangrove-data/Kathy/biomass_project/downsampling/{site_name}/grid.shp\"\n",
    "    grid = gpd.read_file(grid_file)\n",
    "    # get max, min, count, mean, and std\n",
    "    gdf = grid.join(pd.DataFrame(zonal_stats(vectors=grid['geometry'], \n",
    "                                            raster=dem, \n",
    "                                            stats=['max','min', 'count', 'mean', 'std'])), \n",
    "                    how='left')\n",
    "    #valid = gdf[gdf['count'] > 0]\n",
    "    return pd.DataFrame(gdf)"
   ]
  },
  {
   "cell_type": "code",
   "execution_count": 10,
   "metadata": {},
   "outputs": [
    {
     "name": "stdout",
     "output_type": "stream",
     "text": [
      "Grid for lap-2018-07-site6 exists\n",
      "Finished:  lap-2018-07-site6\n",
      "Grid for lap_07-18_site1 exists\n",
      "Finished:  lap_07-18_site1\n",
      "Grid for lap_07-18_site4 exists\n",
      "Finished:  lap_07-18_site4\n",
      "Grid for psc_05-18_site3 exists\n",
      "Finished:  psc_05-18_site3\n",
      "Grid for psc_05-18_site4 exists\n",
      "Finished:  psc_05-18_site4\n",
      "Grid for psc_07-18_site8 exists\n",
      "Finished:  psc_07-18_site8\n",
      "Grid for psc_05-18_site11 exists\n",
      "Finished:  psc_05-18_site11\n",
      "Grid for psc_05-18_site1314 exists\n",
      "Finished:  psc_05-18_site1314\n",
      "Grid for psc_05-18_site12 exists\n",
      "Finished:  psc_05-18_site12\n",
      "Grid for psc_07-18_site11 exists\n",
      "Finished:  psc_07-18_site11\n",
      "Grid for lap_07-18_site5 exists\n",
      "Finished:  lap_07-18_site5\n"
     ]
    }
   ],
   "source": [
    "# make grids and subsample dems\n",
    "count = 0\n",
    "drone_CH = pd.DataFrame()\n",
    "srtm_CH = pd.DataFrame()\n",
    "drone_biomass = pd.DataFrame()\n",
    "srtm_biomass = pd.DataFrame()\n",
    "# loop through dems/labels\n",
    "for dem in dem_names:\n",
    "    make_grid(label_names[count], site_names[count])\n",
    "    # subsample drone/srtm dems\n",
    "    dem_stats = get_stats(site_names[count], dem_names[count])\n",
    "    drone_CH = pd.concat([drone_CH, dem_stats], ignore_index=True, sort=True)\n",
    "    srtm_CH_stats = get_stats(site_names[count], CH_srtm)\n",
    "    srtm_CH = pd.concat([srtm_CH, srtm_CH_stats], ignore_index=True, sort=True)\n",
    "    print(\"Finished: \", site_names[count])\n",
    "    # subsample drone/srtm biomass\n",
    "    #dem_bio = get_stats(site_names[count], all_drone[count])\n",
    "    #srtm_bio = get_stats(site_names[count], all_srtm[count])\n",
    "    count += 1"
   ]
  },
  {
   "cell_type": "code",
   "execution_count": 11,
   "metadata": {},
   "outputs": [],
   "source": [
    "valid_drone = drone_CH[drone_CH['min'] > 0]\n",
    "valid_srtm = srtm_CH[srtm_CH['min'] > 0]"
   ]
  },
  {
   "cell_type": "code",
   "execution_count": 6,
   "metadata": {},
   "outputs": [
    {
     "data": {
      "text/plain": [
       "'1,2,3'"
      ]
     },
     "execution_count": 6,
     "metadata": {},
     "output_type": "execute_result"
    }
   ],
   "source": [
    "int_list = [1, 2, 3]\n",
    "int_list = [str(int) for int in int_list]\n",
    "','.join(int_list)"
   ]
  },
  {
   "cell_type": "code",
   "execution_count": 13,
   "metadata": {},
   "outputs": [
    {
     "data": {
      "text/plain": [
       "895982"
      ]
     },
     "execution_count": 13,
     "metadata": {},
     "output_type": "execute_result"
    }
   ],
   "source": [
    "np.max(valid_drone['count'])"
   ]
  },
  {
   "cell_type": "code",
   "execution_count": 14,
   "metadata": {},
   "outputs": [],
   "source": [
    "drone_mean = valid_drone['mean']\n",
    "srtm_mean = valid_srtm['mean']"
   ]
  },
  {
   "cell_type": "code",
   "execution_count": 71,
   "metadata": {
    "scrolled": true
   },
   "outputs": [
    {
     "data": {
      "image/png": "[encoded data removed]",
      "text/plain": [
       "<Figure size 504x360 with 2 Axes>"
      ]
     },
     "metadata": {
      "needs_background": "light"
     },
     "output_type": "display_data"
    }
   ],
   "source": [
    "# graph for comparing drone and srtm canopy heights\n",
    "fig, ax = plt.subplots(1, 2, figsize=(7, 5), sharey=True, tight_layout=True)\n",
    "graph = pd.DataFrame()\n",
    "graph['drone'] = drone_mean\n",
    "graph['srtm'] = srtm_mean\n",
    "# titles\n",
    "fig.suptitle('Canopy Height Distributions', fontsize=20, y=1.05)\n",
    "fig.text(-0.02, 0.5, 'Frequency', va='center', rotation='vertical', fontsize=15)\n",
    "fig.text(0.5, -0.02, 'Canopy Height', ha='center', fontsize=15)\n",
    "# plot\n",
    "ax[0].hist(graph['drone'], bins=15, alpha=0.5)\n",
    "ax[0].title.set_text('Drone')\n",
    "ax[1].hist(graph['srtm'], bins=15, alpha=0.5, color='orange')\n",
    "ax[1].title.set_text('SRTM Satellite')\n",
    "plt.tight_layout()\n",
    "plt.savefig('/data/mangrove-data/Kathy/biomass_project/results/data/CH_hist.png')"
   ]
  },
  {
   "cell_type": "code",
   "execution_count": 135,
   "metadata": {},
   "outputs": [
    {
     "name": "stdout",
     "output_type": "stream",
     "text": [
      "2.1507999897003174\n",
      "3.1115848919041023\n",
      "ModeResult(mode=array([0.06321548]), count=array([1]))\n",
      "ModeResult(mode=array([1.07539999]), count=array([273]))\n"
     ]
    }
   ],
   "source": [
    "print(np.median(srtm_mean))\n",
    "print(np.median(drone_mean))\n",
    "print(stats.mode(drone_mean))\n",
    "print(stats.mode(srtm_mean))"
   ]
  },
  {
   "cell_type": "code",
   "execution_count": 24,
   "metadata": {},
   "outputs": [],
   "source": [
    "# make dataframe\n",
    "col = ['site_name', 'srtm_biomass', 'drone_biomass', 'biomass_difference', 'srtm_area', \n",
    "      'drone_area', 'area_difference']\n",
    "results = pd.DataFrame(columns=col)\n",
    "results.site_name = site_names\n",
    "results.srtm_biomass = all_srtm\n",
    "results.drone_biomass = all_drone\n",
    "results.biomass_difference = results.srtm_biomass - results.drone_biomass\n",
    "results.srtm_area = srtm_ext\n",
    "results.drone_area = drone_ext\n",
    "results.area_difference = results.srtm_area - results.drone_area\n",
    "results.to_csv(\"/data/mangrove-data/Kathy/biomass_project/results/data/sites_results.csv\")"
   ]
  },
  {
   "cell_type": "code",
   "execution_count": 25,
   "metadata": {},
   "outputs": [],
   "source": [
    "results = pd.read_csv(\"/data/mangrove-data/Kathy/biomass_project/results/data/sites_results.csv\")"
   ]
  },
  {
   "cell_type": "code",
   "execution_count": 8,
   "metadata": {},
   "outputs": [],
   "source": [
    "# normalization test\n",
    "x = results.drone_biomass\n",
    "norm_drone = (x-min(x))/(max(x)-min(x))\n",
    "y = results.srtm_biomass\n",
    "norm_srtm = (y-min(y))/(max(y)-min(y))"
   ]
  },
  {
   "cell_type": "code",
   "execution_count": 26,
   "metadata": {},
   "outputs": [
    {
     "data": {
      "text/html": [
       "<div>\n",
       "<style scoped>\n",
       "    .dataframe tbody tr th:only-of-type {\n",
       "        vertical-align: middle;\n",
       "    }\n",
       "\n",
       "    .dataframe tbody tr th {\n",
       "        vertical-align: top;\n",
       "    }\n",
       "\n",
       "    .dataframe thead th {\n",
       "        text-align: right;\n",
       "    }\n",
       "</style>\n",
       "<table border=\"1\" class=\"dataframe\">\n",
       "  <thead>\n",
       "    <tr style=\"text-align: right;\">\n",
       "      <th></th>\n",
       "      <th>Unnamed: 0</th>\n",
       "      <th>site_name</th>\n",
       "      <th>srtm_biomass</th>\n",
       "      <th>drone_biomass</th>\n",
       "      <th>biomass_difference</th>\n",
       "      <th>srtm_area</th>\n",
       "      <th>drone_area</th>\n",
       "      <th>area_difference</th>\n",
       "    </tr>\n",
       "  </thead>\n",
       "  <tbody>\n",
       "    <tr>\n",
       "      <th>0</th>\n",
       "      <td>0</td>\n",
       "      <td>lap-2018-07-site6</td>\n",
       "      <td>97.075211</td>\n",
       "      <td>191.648483</td>\n",
       "      <td>-94.573273</td>\n",
       "      <td>3.51</td>\n",
       "      <td>3.080333</td>\n",
       "      <td>0.429667</td>\n",
       "    </tr>\n",
       "    <tr>\n",
       "      <th>1</th>\n",
       "      <td>1</td>\n",
       "      <td>lap_07-18_site1</td>\n",
       "      <td>223.246948</td>\n",
       "      <td>919.522949</td>\n",
       "      <td>-696.276001</td>\n",
       "      <td>14.94</td>\n",
       "      <td>14.570173</td>\n",
       "      <td>0.369827</td>\n",
       "    </tr>\n",
       "    <tr>\n",
       "      <th>2</th>\n",
       "      <td>2</td>\n",
       "      <td>lap_07-18_site4</td>\n",
       "      <td>79.043510</td>\n",
       "      <td>119.669525</td>\n",
       "      <td>-40.626015</td>\n",
       "      <td>3.78</td>\n",
       "      <td>1.990308</td>\n",
       "      <td>1.789692</td>\n",
       "    </tr>\n",
       "    <tr>\n",
       "      <th>3</th>\n",
       "      <td>3</td>\n",
       "      <td>psc_05-18_site3</td>\n",
       "      <td>42.167847</td>\n",
       "      <td>580.295044</td>\n",
       "      <td>-538.127197</td>\n",
       "      <td>4.50</td>\n",
       "      <td>7.596837</td>\n",
       "      <td>-3.096837</td>\n",
       "    </tr>\n",
       "    <tr>\n",
       "      <th>4</th>\n",
       "      <td>4</td>\n",
       "      <td>psc_05-18_site4</td>\n",
       "      <td>42.167847</td>\n",
       "      <td>347.783417</td>\n",
       "      <td>-305.615570</td>\n",
       "      <td>4.50</td>\n",
       "      <td>4.239481</td>\n",
       "      <td>0.260519</td>\n",
       "    </tr>\n",
       "    <tr>\n",
       "      <th>5</th>\n",
       "      <td>5</td>\n",
       "      <td>psc_07-18_site8</td>\n",
       "      <td>177.555893</td>\n",
       "      <td>2369.260498</td>\n",
       "      <td>-2191.704605</td>\n",
       "      <td>24.93</td>\n",
       "      <td>31.643542</td>\n",
       "      <td>-6.713542</td>\n",
       "    </tr>\n",
       "    <tr>\n",
       "      <th>6</th>\n",
       "      <td>6</td>\n",
       "      <td>psc_05-18_site11</td>\n",
       "      <td>141.479279</td>\n",
       "      <td>3026.377197</td>\n",
       "      <td>-2884.897919</td>\n",
       "      <td>33.39</td>\n",
       "      <td>39.327916</td>\n",
       "      <td>-5.937916</td>\n",
       "    </tr>\n",
       "    <tr>\n",
       "      <th>7</th>\n",
       "      <td>7</td>\n",
       "      <td>psc_05-18_site1314</td>\n",
       "      <td>65.959564</td>\n",
       "      <td>1115.510620</td>\n",
       "      <td>-1049.551056</td>\n",
       "      <td>7.92</td>\n",
       "      <td>13.985034</td>\n",
       "      <td>-6.065034</td>\n",
       "    </tr>\n",
       "    <tr>\n",
       "      <th>8</th>\n",
       "      <td>8</td>\n",
       "      <td>psc_05-18_site12</td>\n",
       "      <td>0.332098</td>\n",
       "      <td>280.935791</td>\n",
       "      <td>-280.603693</td>\n",
       "      <td>0.45</td>\n",
       "      <td>3.886937</td>\n",
       "      <td>-3.436937</td>\n",
       "    </tr>\n",
       "    <tr>\n",
       "      <th>9</th>\n",
       "      <td>9</td>\n",
       "      <td>psc_07-18_site11</td>\n",
       "      <td>89.634758</td>\n",
       "      <td>1552.152100</td>\n",
       "      <td>-1462.517342</td>\n",
       "      <td>13.77</td>\n",
       "      <td>18.923046</td>\n",
       "      <td>-5.153046</td>\n",
       "    </tr>\n",
       "    <tr>\n",
       "      <th>10</th>\n",
       "      <td>10</td>\n",
       "      <td>lap_07-18_site5</td>\n",
       "      <td>124.365883</td>\n",
       "      <td>300.885620</td>\n",
       "      <td>-176.519737</td>\n",
       "      <td>3.96</td>\n",
       "      <td>3.597907</td>\n",
       "      <td>0.362093</td>\n",
       "    </tr>\n",
       "  </tbody>\n",
       "</table>\n",
       "</div>"
      ],
      "text/plain": [
       "    Unnamed: 0           site_name  srtm_biomass  drone_biomass  \\\n",
       "0            0   lap-2018-07-site6     97.075211     191.648483   \n",
       "1            1     lap_07-18_site1    223.246948     919.522949   \n",
       "2            2     lap_07-18_site4     79.043510     119.669525   \n",
       "3            3     psc_05-18_site3     42.167847     580.295044   \n",
       "4            4     psc_05-18_site4     42.167847     347.783417   \n",
       "5            5     psc_07-18_site8    177.555893    2369.260498   \n",
       "6            6    psc_05-18_site11    141.479279    3026.377197   \n",
       "7            7  psc_05-18_site1314     65.959564    1115.510620   \n",
       "8            8    psc_05-18_site12      0.332098     280.935791   \n",
       "9            9    psc_07-18_site11     89.634758    1552.152100   \n",
       "10          10     lap_07-18_site5    124.365883     300.885620   \n",
       "\n",
       "    biomass_difference  srtm_area  drone_area  area_difference  \n",
       "0           -94.573273       3.51    3.080333         0.429667  \n",
       "1          -696.276001      14.94   14.570173         0.369827  \n",
       "2           -40.626015       3.78    1.990308         1.789692  \n",
       "3          -538.127197       4.50    7.596837        -3.096837  \n",
       "4          -305.615570       4.50    4.239481         0.260519  \n",
       "5         -2191.704605      24.93   31.643542        -6.713542  \n",
       "6         -2884.897919      33.39   39.327916        -5.937916  \n",
       "7         -1049.551056       7.92   13.985034        -6.065034  \n",
       "8          -280.603693       0.45    3.886937        -3.436937  \n",
       "9         -1462.517342      13.77   18.923046        -5.153046  \n",
       "10         -176.519737       3.96    3.597907         0.362093  "
      ]
     },
     "execution_count": 26,
     "metadata": {},
     "output_type": "execute_result"
    }
   ],
   "source": [
    "results"
   ]
  },
  {
   "cell_type": "code",
   "execution_count": 27,
   "metadata": {},
   "outputs": [
    {
     "name": "stdout",
     "output_type": "stream",
     "text": [
      "total estimated biomass (Mg/ha) by SRTM:  1083.0288367271423\n",
      "total estimated biomass (Mg/ha) by drones:  10804.041244506836\n"
     ]
    }
   ],
   "source": [
    "print(\"total estimated biomass (Mg/ha) by SRTM: \", np.sum(results.srtm_biomass))\n",
    "print(\"total estimated biomass (Mg/ha) by drones: \", np.sum(results.drone_biomass))"
   ]
  },
  {
   "cell_type": "code",
   "execution_count": 115,
   "metadata": {},
   "outputs": [
    {
     "name": "stdout",
     "output_type": "stream",
     "text": [
      "total estimated area (ha) by SRTM:  115.64999999999999\n",
      "total estimated area (ha) by drones:  142.8415149317026\n"
     ]
    }
   ],
   "source": [
    "print(\"total estimated area (ha) by SRTM: \", np.sum(results.srtm_area))\n",
    "print(\"total estimated area (ha) by drones: \", np.sum(results.drone_area))"
   ]
  },
  {
   "cell_type": "code",
   "execution_count": 124,
   "metadata": {},
   "outputs": [
    {
     "name": "stdout",
     "output_type": "stream",
     "text": [
      "total estimated biomass (Mg) by SRTM:  125252.28496749401\n",
      "total estimated biomass (Mg) by drones:  1543265.6187499538\n",
      "factor difference:  12.3212572062096\n"
     ]
    }
   ],
   "source": [
    "total_drone = np.sum(results.drone_biomass)*np.sum(results.drone_area)\n",
    "total_srtm = np.sum(results.srtm_biomass)*np.sum(results.srtm_area)\n",
    "print(\"total estimated biomass (Mg) by SRTM: \", total_srtm)\n",
    "print(\"total estimated biomass (Mg) by drones: \", total_drone)\n",
    "print(\"factor difference: \", total_drone/total_srtm)"
   ]
  },
  {
   "cell_type": "code",
   "execution_count": 128,
   "metadata": {},
   "outputs": [
    {
     "name": "stdout",
     "output_type": "stream",
     "text": [
      "% total SRTM of total SRTM in Mexico:  0.474641728646207\n",
      "% total drone of total SRTM in Mexico:  5.8481828194498595\n"
     ]
    }
   ],
   "source": [
    "mexico = 26388806\n",
    "print(\"% total SRTM of total SRTM in Mexico: \", (total_srtm/mexico)*100)\n",
    "print(\"% total drone of total SRTM in Mexico: \", (total_drone/mexico)*100)"
   ]
  },
  {
   "cell_type": "code",
   "execution_count": 10,
   "metadata": {},
   "outputs": [
    {
     "data": {
      "text/plain": [
       "Text(0, 0.5, 'SRTM Biomass (Mg)')"
      ]
     },
     "execution_count": 10,
     "metadata": {},
     "output_type": "execute_result"
    },
    {
     "data": {
      "image/png": "[encoded data removed]",
      "text/plain": [
       "<Figure size 432x288 with 1 Axes>"
      ]
     },
     "metadata": {
      "needs_background": "light"
     },
     "output_type": "display_data"
    }
   ],
   "source": [
    "# plot difference\n",
    "# x = results.drone_biomass\n",
    "# y = results.srtm_biomass\n",
    "plt.scatter(norm_drone,norm_srtm, marker='o')\n",
    "plt.title(\"Drone vs. SRTM Biomass in Baja California\", size=15)\n",
    "plt.xlabel(\"Drone Biomass (Mg)\", size=15)\n",
    "plt.ylabel(\"SRTM Biomass (Mg)\", size=15)"
   ]
  },
  {
   "cell_type": "code",
   "execution_count": 13,
   "metadata": {},
   "outputs": [
    {
     "name": "stdout",
     "output_type": "stream",
     "text": [
      "Drone variance:  848913.2779309484\n",
      "SRTM variance:  3802.6813604869226\n"
     ]
    },
    {
     "data": {
      "text/plain": [
       "Ttest_indResult(statistic=3.0263323250086924, pvalue=0.01263414962567396)"
      ]
     },
     "execution_count": 13,
     "metadata": {},
     "output_type": "execute_result"
    }
   ],
   "source": [
    "# independent 2 sample t-test\n",
    "drone = list(results.drone_biomass)\n",
    "srtm = list(results.srtm_biomass)\n",
    "print(\"Drone variance: \", np.var(drone))\n",
    "print(\"SRTM variance: \", np.var(srtm))\n",
    "stats.ttest_ind(drone,srtm, equal_var = False)"
   ]
  },
  {
   "cell_type": "code",
   "execution_count": 28,
   "metadata": {},
   "outputs": [],
   "source": [
    "# list of site names\n",
    "site_names = [\"lap-2018-07-site6\", \"lap_07-18_site1\", \"lap_07-18_site4\", \"psc_05-18_site3\", \n",
    "              \"psc_05-18_site4\", \"psc_07-18_site8\", \"psc_05-18_site11\", \"psc_05-18_site1314\", \"psc_05-18_site12\", \n",
    "              \"psc_07-18_site11\", \"lap_07-18_site5\"]\n",
    "biomass = []\n",
    "for site in site_names:\n",
    "    basedir = f'/data/mangrove-data/Kathy/biomass_project/downsampling/{site}/biomass/scaled_down_0.tif'\n",
    "    if os.path.isfile(basedir):\n",
    "        biomass.append(basedir)\n",
    "\n",
    "\n",
    "from zipfile import ZipFile\n",
    "# Create a ZipFile Object\n",
    "with ZipFile('/data/mangrove-data/Kathy/biomass_project/downsampling/all_biomass.zip', 'w') as zipObj2:\n",
    "   # Add multiple files to the zip\n",
    "    for site in biomass:\n",
    "        zipObj2.write(site)\n",
    "        print(site)\n",
    "\n",
    "# # convert list to string\n",
    "# biomass_str = ' '.join([str(elem) for elem in biomass]) \n",
    "# # call to merge\n",
    "# call = f'gdal_merge.py -ot Float32 -of GTiff -n {nodata} -o /data/mangrove-data/Kathy/biomass_project/downsampling/all_biomass.tif {biomass_str}'\n",
    "# print(subprocess.run(call, shell=True))"
   ]
  }
 ],
 "metadata": {
  "kernelspec": {
   "display_name": "Python (gdal)",
   "language": "python",
   "name": "gdal"
  },
  "language_info": {
   "codemirror_mode": {
    "name": "ipython",
    "version": 3
   },
   "file_extension": ".py",
   "mimetype": "text/x-python",
   "name": "python",
   "nbconvert_exporter": "python",
   "pygments_lexer": "ipython3",
   "version": "3.7.3"
  }
 },
 "nbformat": 4,
 "nbformat_minor": 2
}
