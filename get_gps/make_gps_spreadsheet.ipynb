{
 "cells": [
  {
   "cell_type": "code",
   "execution_count": 2,
   "metadata": {},
   "outputs": [],
   "source": [
    "import os\n",
    "import sys\n",
    "import gdal\n",
    "import ntpath\n",
    "import argparse\n",
    "import pandas as pd"
   ]
  },
  {
   "cell_type": "code",
   "execution_count": 3,
   "metadata": {},
   "outputs": [],
   "source": [
    "# get one file\n",
    "def get_file(folder):\n",
    "    return (f for f in os.listdir(folder) if f.endswith('.' + 'tif'))"
   ]
  },
  {
   "cell_type": "code",
   "execution_count": 6,
   "metadata": {},
   "outputs": [],
   "source": [
    "# get center for path of each requested folder\n",
    "def get_center(trip_folder):\n",
    "    \n",
    "    flights = []\n",
    "    # gets the trip folder and parses to each output file\n",
    "    folders = next(os.walk(trip_folder))[1]\n",
    "    \n",
    "    # get center from each trip folder's flight\n",
    "    for folder in folders:\n",
    "        flight = []\n",
    "        # first append site name\n",
    "        flight.append(folder)\n",
    "        \n",
    "        # go to output\n",
    "        folder = os.path.join(trip_folder, folder, \"output\", \"\")\n",
    "        # check if output exists\n",
    "        if not os.path.isdir(folder):\n",
    "            continue\n",
    "        \n",
    "        # Prepare file list\n",
    "        files = list(get_file(folder))\n",
    "        # check if empty\n",
    "        if len(files) == 0:\n",
    "            continue\n",
    "            \n",
    "        # just get one \n",
    "        file = folder + files[0]\n",
    "\n",
    "        # Vars\n",
    "        lat = \"Invalid File\"\n",
    "        long = \"\"\n",
    "\n",
    "        # Analyze image file\n",
    "        image_transform = size = []\n",
    "        if file != \"\":\n",
    "            image_info = gdal.Info(file, format=\"json\")\n",
    "            image_transform = image_info['geoTransform']\n",
    "            size = image_info[\"size\"]\n",
    "\n",
    "        # Calculate centers\n",
    "        width = image_transform[1] * size[0]\n",
    "        height = image_transform[5] * size[1]\n",
    "        long = image_transform[0] + 0.5 * width\n",
    "        lat = image_transform[3] + 0.5 * height\n",
    "\n",
    "        # Print file info\n",
    "        name = ntpath.basename(file)\n",
    "        print(\"{0:<40}{1:<20}{2:<20}\".format(name, lat, long))\n",
    "        \n",
    "        # add lat and long\n",
    "        flight.append(lat)\n",
    "        flight.append(long)\n",
    "        \n",
    "        # store info\n",
    "        flights.append(flight)\n",
    "\n",
    "    # store info in dataframe\n",
    "    cols = [\"Site\", \"Latitude\", \"Longitude\"]\n",
    "    trip_coords = pd.DataFrame(flights, columns=cols)\n",
    "    return trip_coords"
   ]
  },
  {
   "cell_type": "code",
   "execution_count": 15,
   "metadata": {},
   "outputs": [
    {
     "name": "stdout",
     "output_type": "stream",
     "text": [
      "25-26-27_ortho_mult.tif                 24.797049370967102  -112.09486131261201 \n",
      "17-18_ortho_mult.tif                    24.8024476017033    -112.114589921839   \n",
      "lagoon2_ortho.tif                       24.79493284767799   -112.18143401557215 \n",
      "lagoon1_ortho.tif                       24.791084198490985  -112.18776451479367 \n",
      "10-11-12_ortho_mult.tif                 24.8010570421986    -112.110954609557   \n",
      "3-4_ortho_mult.tif                      24.8034400473051    -112.10274302150799 \n",
      "1-2_ortho.tif                           24.79364348413935   -112.11564702746895 \n",
      "site-3-4-ortho.tif                      24.7979444788103    -112.09529453071049 \n",
      "psc_2018-05_site12_120m_DEM.tif         24.785276643722103  -112.085501893892   \n",
      "psc_2018-05_site01-04_sat_RGBI.tif      2744545.5           384873.0            \n",
      "psc_2018-05_site13-14_120m_DEM.tif      24.7825155554456    -112.094090767036   \n",
      "site-9-ortho.tif                        24.7936792871419    -112.11595903032    \n",
      "psc_2018-05_site03_120m_RGB_cc.tif      24.7973380461953    -112.09452448395601 \n",
      "site-5-6-7-ortho.tif                    24.802217478470002  -112.100943325836   \n",
      "site-8-ortho.tif                        24.7978637963722    -112.109799682447   \n",
      "psc_2018-05_site01_120m_NDVI_rc.tif     24.7995817279369    -112.09292699356399 \n",
      "psc_2018-05_site04_120m_MULT_rc.tif     24.7991669839179    -112.096165674617   \n",
      "psc_2018-05_site11_120m_DEM.tif         24.7926409898116    -112.08301183398    \n",
      "lap_2019-07_site05_sat_NDVI_sr.tif      24.250164999999992  -110.31378499999995 \n",
      "lap_2018-07_site04_sat_NDVI_sr.tif      24.230520000000002  -110.30660999999994 \n",
      "lap_2018-07_site06_120m_RGB_cc.tif      24.2599746082849    -110.310947194398   \n",
      "lap_2018-07_site1_120m_NDVI_rc.tif      24.1740288048816    -110.434698820931   \n",
      "psc_2018-07_site09_120m_DEM.tif         24.7809857722162    -112.07384164428349 \n",
      "site10-ortho.tif                        24.8040493762765    -112.08973121846499 \n",
      "psc_2018-07_site08_120m_DEM.tif         24.7862278284324    -112.078523975638   \n",
      "psc_2018-07_site11_120m_RGB.tif         24.802326340942802  -112.10083162646    \n",
      "skr_2018-05_site14_flight02_120m_rgb.tif18.985517943858127  -87.62875833859532  \n",
      "skr_2019-05_site15_120m_RGB.tif         19.0891187578154    -87.55382574118781  \n",
      "skr_2019-05_site01_rgb.tif              20.057951050082803  -87.48326959431941  \n",
      "skr_2019-05_site10_flight01_120m_rgb.tif19.77364062058835   -87.58825401524794  \n",
      "skr_2019-05_site04_flight01_120m_rgb.tif20.007983857794407  -87.481394961018    \n"
     ]
    }
   ],
   "source": [
    "trips = [\"2017.07-mexico-ptosancarlos\", \"2018.05-mexico-ptosancarlos\", \"2018.07-mexico-lapaz\", \n",
    "        \"2018.07-mexico-ptosancarlos\", \"2019.05-mexico-skr\"]\n",
    "all_coords = pd.DataFrame(columns=[\"Site\", \"Latitude\", \"Longitude\"])\n",
    "# go through all trips and get their coordinates\n",
    "for trip in trips:\n",
    "    trip = os.path.join(\"/data/mangrove-data/master\", trip, \"\")\n",
    "    coords = get_center(trip)\n",
    "    all_coords = pd.concat([all_coords, coords], ignore_index=True)"
   ]
  },
  {
   "cell_type": "code",
   "execution_count": 19,
   "metadata": {},
   "outputs": [],
   "source": [
    "all_coords.to_csv('/data/mangrove-data/Kathy/biomass_project/scripts/get_gps/all_sites_gps.csv', index=False)"
   ]
  }
 ],
 "metadata": {
  "kernelspec": {
   "display_name": "Python (gdal)",
   "language": "python",
   "name": "gdal"
  },
  "language_info": {
   "codemirror_mode": {
    "name": "ipython",
    "version": 3
   },
   "file_extension": ".py",
   "mimetype": "text/x-python",
   "name": "python",
   "nbconvert_exporter": "python",
   "pygments_lexer": "ipython3",
   "version": "3.7.3"
  }
 },
 "nbformat": 4,
 "nbformat_minor": 2
}
